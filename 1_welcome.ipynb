{
 "cells": [
  {
   "cell_type": "markdown",
   "metadata": {
    "slideshow": {
     "slide_type": "slide"
    }
   },
   "source": [
    "<center><h1>Naive Bayes for Text Classification</h1></center>\n",
    "\n",
    "<center><img src=\"https://imgs.xkcd.com/comics/seashell.png\" width=\"35%\"/></center>"
   ]
  },
  {
   "cell_type": "markdown",
   "metadata": {
    "slideshow": {
     "slide_type": "slide"
    }
   },
   "source": [
    "Who am I?\n",
    "-------\n",
    "\n",
    "<center><img src=\"images/brian_spiering.jpg\" width=\"35%\"/></center>\n",
    "\n",
    "Brian Spiering\n",
    "\n",
    "University of San Francisco Professor\n",
    "\n",
    "Practicing and teaching Data Science for last 4 years"
   ]
  },
  {
   "cell_type": "markdown",
   "metadata": {
    "slideshow": {
     "slide_type": "slide"
    }
   },
   "source": [
    "Agenda\n",
    "-----\n",
    "\n",
    "1. Welcome\n",
    "1. Intro to Text Classification & Naive Bayes\n",
    "1. Appying Naive Bayes to Text Classification example\n",
    "    - From scratch\n",
    "    - Using a library"
   ]
  },
  {
   "cell_type": "markdown",
   "metadata": {
    "slideshow": {
     "slide_type": "slide"
    }
   },
   "source": [
    "How to get the most of this\n",
    "---\n",
    "\n",
    "- Be active - Take notes, ask questions, and follow along\n",
    "- https://github.com/brianspiering/bayesian-text or http://bit.ly/b-text"
   ]
  },
  {
   "cell_type": "markdown",
   "metadata": {
    "slideshow": {
     "slide_type": "slide"
    }
   },
   "source": [
    "<center><h1>Questions</h1></center>"
   ]
  },
  {
   "cell_type": "markdown",
   "metadata": {
    "slideshow": {
     "slide_type": "slide"
    }
   },
   "source": [
    "<br>\n",
    "<br> \n",
    "<br>\n",
    "\n",
    "----"
   ]
  }
 ],
 "metadata": {
  "celltoolbar": "Slideshow",
  "kernelspec": {
   "display_name": "Python 3",
   "language": "python",
   "name": "python3"
  },
  "language_info": {
   "codemirror_mode": {
    "name": "ipython",
    "version": 3
   },
   "file_extension": ".py",
   "mimetype": "text/x-python",
   "name": "python",
   "nbconvert_exporter": "python",
   "pygments_lexer": "ipython3",
   "version": "3.6.5"
  }
 },
 "nbformat": 4,
 "nbformat_minor": 2
}
